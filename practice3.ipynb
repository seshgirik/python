{
 "cells": [
  {
   "cell_type": "code",
   "execution_count": 4,
   "metadata": {},
   "outputs": [
    {
     "name": "stdout",
     "output_type": "stream",
     "text": [
      "<generator object squares at 0x00000204813265C8>\n",
      "0\n",
      "1\n",
      "4\n",
      "9\n",
      "16\n"
     ]
    }
   ],
   "source": [
    "\n",
    "\n",
    "\n",
    "\n",
    "def squares(nums):\n",
    "    for i in range(nums):\n",
    "        yield i*i\n",
    "        \n",
    "values=squares(5)\n",
    "print(values)\n",
    "for i in values:\n",
    "    print(i)"
   ]
  },
  {
   "cell_type": "code",
   "execution_count": 8,
   "metadata": {},
   "outputs": [
    {
     "name": "stdout",
     "output_type": "stream",
     "text": [
      "<generator object <genexpr> at 0x0000020481326848>\n",
      "0\n",
      "1\n",
      "2\n",
      "3\n",
      "4\n",
      "5\n",
      "6\n",
      "7\n",
      "8\n",
      "9\n",
      "[]\n"
     ]
    }
   ],
   "source": [
    "nums= (i for i in range(10))\n",
    "print(nums)\n",
    "for i in nums:\n",
    "    print(i)\n",
    "print(list(nums))"
   ]
  },
  {
   "cell_type": "code",
   "execution_count": 18,
   "metadata": {},
   "outputs": [
    {
     "data": {
      "text/plain": [
       "[('l', 2), ('h', 1), ('e', 1), ('o', 1)]"
      ]
     },
     "execution_count": 18,
     "metadata": {},
     "output_type": "execute_result"
    }
   ],
   "source": [
    "from collections import Counter\n",
    "\n",
    "A=[\"h\",\"e\",\"l\",\"l\",\"o\"]\n",
    "c=Counter(A)\n",
    "c.most_common()\n",
    "#dir(Counter)"
   ]
  },
  {
   "cell_type": "code",
   "execution_count": 23,
   "metadata": {},
   "outputs": [
    {
     "data": {
      "text/plain": [
       "'default'"
      ]
     },
     "execution_count": 23,
     "metadata": {},
     "output_type": "execute_result"
    }
   ],
   "source": [
    "d = {'hello': 'world'}\n",
    "d.get('hello1',\"default\")"
   ]
  },
  {
   "cell_type": "code",
   "execution_count": 43,
   "metadata": {},
   "outputs": [
    {
     "name": "stdout",
     "output_type": "stream",
     "text": [
      "[10]\n"
     ]
    }
   ],
   "source": [
    "def listappend(element,list1=None):\n",
    "    if not list1:\n",
    "        list1=[]\n",
    "    list1.append(element)\n",
    "    return list1\n",
    "    \n",
    "    \n",
    "list1=listappend(10,[10,1])   \n",
    "list1=listappend(10)    \n",
    "list1=listappend(10)\n",
    "print(list1)"
   ]
  },
  {
   "cell_type": "code",
   "execution_count": 56,
   "metadata": {},
   "outputs": [
    {
     "name": "stdout",
     "output_type": "stream",
     "text": [
      "{1, 2, 3, 4}\n",
      "{1, 2, 3, 4, 5, 6, 7}\n",
      "{'ram': 'laxman', 'rambhakth': 'hanuman', 'bharath': 'laxman'}\n",
      "[1, 2, 3, 4, 5, 6]\n",
      "None\n"
     ]
    }
   ],
   "source": [
    "set1= { 1,2,3,4}\n",
    "print(set1)\n",
    "set1.update({5,6,7})\n",
    "set1.update\n",
    "print(set1)\n",
    "d={'ram':'laxman' , 'rambhakth':'hanuman'}\n",
    "d.update({'bharath':'laxman'})\n",
    "print(d)\n",
    "l=[1,2,3]\n",
    "l.extend([4,5,6])\n",
    "print(l)\n",
    "print(d.get(\"well\",None))"
   ]
  },
  {
   "cell_type": "code",
   "execution_count": 71,
   "metadata": {},
   "outputs": [
    {
     "name": "stdout",
     "output_type": "stream",
     "text": [
      "None\n",
      "laxman\n"
     ]
    },
    {
     "data": {
      "text/plain": [
       "{2: 3, 0: 1, 1: 1, 3: 1, 4: 1, 5: 1, 6: 1, 7: 1, 8: 1, 9: 1}"
      ]
     },
     "execution_count": 71,
     "metadata": {},
     "output_type": "execute_result"
    }
   ],
   "source": [
    "d={'ram':'laxman' , 'rambhakth':'hanuman'}\n",
    "print(d.setdefault('C',None))\n",
    "print(d.setdefault('ram',None))\n",
    "\n",
    "\"\"\"The second use case is when we need a default value for a key:\n",
    "\n",
    "def count_duplicates(numbers):\n",
    "   result = {}\n",
    "   for number in numbers:\n",
    "       if number not in result:  # No need for if here\n",
    "           result[key] = 0\n",
    "       result[number] += 1\n",
    "   return result\n",
    "By using setdefault, we get cleaner code:\n",
    "\n",
    ">>> def count_duplicates(numbers):\n",
    "   result = {}\n",
    "   for number in numbers:\n",
    "       result.setdefault(number, 0)  # this is clearer\n",
    "       result[number] += 1\n",
    "   return result\"\"\"\n",
    "\n",
    "\n",
    "d={2:2}\n",
    "\n",
    "for i in range(10):\n",
    "    d.setdefault(i,0)\n",
    "    d[i]+=1\n",
    "d"
   ]
  },
  {
   "cell_type": "code",
   "execution_count": 72,
   "metadata": {},
   "outputs": [
    {
     "name": "stdout",
     "output_type": "stream",
     "text": [
      "1\n"
     ]
    }
   ],
   "source": [
    "\n",
    "\n",
    "def listappend(element,list1=None):\n",
    "    if not list1:\n",
    "        list1=[]\n",
    "    list1.append(element)\n",
    "    return 1 or 0\n",
    "#https://www.toptal.com/python/tips-and-practices and search return check_in_cache() or pull_from_db()\n",
    "\"\"\"# check_in_cache returns object or None\n",
    "def get_obj(): \n",
    "return check_in_cache() or pull_from_db()\n",
    "A quick explanation of the provided example: it will first\n",
    "try to get an object from cache (check_in_cache() function). \n",
    "If it doesn’t return an object and returns a None instead, it \n",
    "will get it from the database (pull_from_db() function). \n",
    "Written in this way is better than the following code snippet, \n",
    "written in a standard way:\"\"\"    \n",
    "    \n",
    "list1=listappend(10,[10,1])   \n",
    "list1=listappend(10)    \n",
    "list1=listappend(10)\n",
    "print(list1)\n",
    "\n"
   ]
  },
  {
   "cell_type": "code",
   "execution_count": 79,
   "metadata": {},
   "outputs": [
    {
     "data": {
      "text/plain": [
       "dict_values([1, 2, 3])"
      ]
     },
     "execution_count": 79,
     "metadata": {},
     "output_type": "execute_result"
    }
   ],
   "source": [
    "\n",
    "\n",
    "characters = [['a', 1], ['b', 2], ['c', 3]]\n",
    "list(dict(characters))\n",
    "dict(characters).values()"
   ]
  },
  {
   "cell_type": "code",
   "execution_count": 82,
   "metadata": {},
   "outputs": [
    {
     "data": {
      "text/plain": [
       "{1: 'a', 2: 'b', 3: 'c'}"
      ]
     },
     "execution_count": 82,
     "metadata": {},
     "output_type": "execute_result"
    }
   ],
   "source": [
    "#reverse dictionary using dictionary comprehension\n",
    "characters = {'a': 1, 'b': 2, 'c': 3}\n",
    "{value:key for key,value in characters.items()}"
   ]
  },
  {
   "cell_type": "code",
   "execution_count": 96,
   "metadata": {},
   "outputs": [
    {
     "name": "stdout",
     "output_type": "stream",
     "text": [
      "<generator object gen.<locals>.<genexpr> at 0x0000020483197848>\n"
     ]
    }
   ],
   "source": [
    "\n",
    "def gen():\n",
    "        \n",
    "    g=(x for x in range(10))\n",
    "    yield g\n",
    "    \n",
    "gen1=gen()\n",
    "print(next(gen1))"
   ]
  },
  {
   "cell_type": "code",
   "execution_count": 102,
   "metadata": {},
   "outputs": [
    {
     "data": {
      "text/plain": [
       "7"
      ]
     },
     "execution_count": 102,
     "metadata": {},
     "output_type": "execute_result"
    }
   ],
   "source": [
    "short_list = range(10)\n",
    "y = (x for x in short_list if x > 5)\n",
    "\n",
    "next(y)\n",
    "next(y)"
   ]
  },
  {
   "cell_type": "code",
   "execution_count": 105,
   "metadata": {},
   "outputs": [
    {
     "data": {
      "text/plain": [
       "[{'Name': 'Jeremy', 'Age': 25, 'Favorite Color': 'Blue'},\n",
       " {'Name': 'Jasmine', 'Age': 29, 'Favorite Color': 'Aqua'},\n",
       " {'Name': 'Ally', 'Age': 41, 'Favorite Color': 'Magenta'}]"
      ]
     },
     "execution_count": 105,
     "metadata": {},
     "output_type": "execute_result"
    }
   ],
   "source": [
    "import operator\n",
    "csv_mapping_list = [\n",
    "  { \"Name\": \"Jeremy\", \"Age\": 25, \"Favorite Color\": \"Blue\" }, \n",
    "  { \"Name\": \"Ally\", \"Age\": 41, \"Favorite Color\": \"Magenta\" }, \n",
    "  { \"Name\": \"Jasmine\", \"Age\": 29, \"Favorite Color\": \"Aqua\" }\n",
    "]\n",
    "sorted(csv_mapping_list, key=operator.itemgetter('Age'))"
   ]
  },
  {
   "cell_type": "code",
   "execution_count": 113,
   "metadata": {},
   "outputs": [
    {
     "data": {
      "text/plain": [
       "{'Yusuke Urameshi': 'Spirit Gun', 'Hiei': 'Jagan Eye'}"
      ]
     },
     "execution_count": 113,
     "metadata": {},
     "output_type": "execute_result"
    }
   ],
   "source": [
    "# merging 2 dictinaries using dict comprehension\n",
    "yusuke_power = {\"Yusuke Urameshi\": \"Spirit Gun\"}\n",
    "hiei_power = {\"Hiei\": \"Jagan Eye\"}\n",
    "#powers = dict()\n",
    "\n",
    "powers = {key:val for element in (yusuke_power,hiei_power) for key,val in element.items()}\n",
    "powers"
   ]
  },
  {
   "cell_type": "code",
   "execution_count": 120,
   "metadata": {},
   "outputs": [
    {
     "data": {
      "text/plain": [
       "[-8]"
      ]
     },
     "execution_count": 120,
     "metadata": {},
     "output_type": "execute_result"
    }
   ],
   "source": [
    "my_list = [2, 5, -4, 6]\n",
    "\n",
    "[element*2 for element in my_list if element <0]"
   ]
  },
  {
   "cell_type": "code",
   "execution_count": 128,
   "metadata": {},
   "outputs": [
    {
     "ename": "TypeError",
     "evalue": "endswith() takes at least 1 argument (0 given)",
     "output_type": "error",
     "traceback": [
      "\u001b[1;31m---------------------------------------------------------------------------\u001b[0m",
      "\u001b[1;31mTypeError\u001b[0m                                 Traceback (most recent call last)",
      "\u001b[1;32m<ipython-input-128-45fc967d530c>\u001b[0m in \u001b[0;36m<module>\u001b[1;34m\u001b[0m\n\u001b[0;32m      3\u001b[0m \u001b[0mmy_list\u001b[0m \u001b[1;33m=\u001b[0m \u001b[1;33m[\u001b[0m\u001b[1;34m\"leaf\"\u001b[0m\u001b[1;33m,\u001b[0m \u001b[1;34m\"cherry\"\u001b[0m\u001b[1;33m,\u001b[0m \u001b[1;34m\"fish\"\u001b[0m\u001b[1;33m]\u001b[0m\u001b[1;33m\u001b[0m\u001b[1;33m\u001b[0m\u001b[0m\n\u001b[0;32m      4\u001b[0m \u001b[0msorted\u001b[0m\u001b[1;33m(\u001b[0m\u001b[0mmy_list\u001b[0m \u001b[1;33m,\u001b[0m \u001b[0mkey\u001b[0m\u001b[1;33m=\u001b[0m\u001b[0mstr\u001b[0m\u001b[1;33m.\u001b[0m\u001b[0mcasefold\u001b[0m\u001b[1;33m)\u001b[0m\u001b[1;33m\u001b[0m\u001b[1;33m\u001b[0m\u001b[0m\n\u001b[1;32m----> 5\u001b[1;33m \u001b[0msorted\u001b[0m\u001b[1;33m(\u001b[0m\u001b[0mmy_list\u001b[0m \u001b[1;33m,\u001b[0m \u001b[0mkey\u001b[0m\u001b[1;33m=\u001b[0m\u001b[0mstr\u001b[0m\u001b[1;33m.\u001b[0m\u001b[0mendswith\u001b[0m\u001b[1;33m(\u001b[0m\u001b[1;34m'ish'\u001b[0m\u001b[1;33m)\u001b[0m\u001b[1;33m)\u001b[0m\u001b[1;33m\u001b[0m\u001b[1;33m\u001b[0m\u001b[0m\n\u001b[0m",
      "\u001b[1;31mTypeError\u001b[0m: endswith() takes at least 1 argument (0 given)"
     ]
    }
   ],
   "source": [
    "# sorting strings\n",
    "\n",
    "my_list = [\"leaf\", \"cherry\", \"fish\"]\n",
    "sorted(my_list , key=str.casefold)\n",
    "sorted(my_list , key=str.endswith('ish'))"
   ]
  },
  {
   "cell_type": "code",
   "execution_count": 138,
   "metadata": {},
   "outputs": [
    {
     "data": {
      "text/plain": [
       "[[1, 2, 3], [1, 3, 2], [2, 1, 3], [2, 3, 1], [3, 1, 2], [3, 2, 1]]"
      ]
     },
     "execution_count": 138,
     "metadata": {},
     "output_type": "execute_result"
    }
   ],
   "source": [
    "\n",
    "# Generate all possible pairs from 3 lists\n",
    "\n",
    "#[(a, b,c) for a in (1, 3, 5) for b in (2, 4, 6) for c in (2,4,6) if b!=c]\n",
    "\n",
    "\n",
    "[[a,b,c] for a in [1,2,3] for b in [1,2,3]  for c in [1,2,3] if a!=b and a!=c and b!=c ]"
   ]
  },
  {
   "cell_type": "code",
   "execution_count": 162,
   "metadata": {},
   "outputs": [
    {
     "name": "stdout",
     "output_type": "stream",
     "text": [
      "sesh , values [1, 2, 4]\n",
      "sesh , values []\n",
      "sesh , values ([1, 2, 4],)\n",
      "sesh , values (1, 2, 4)\n",
      "sesh , values (1, 2, 3)\n",
      "sesh , values ()\n"
     ]
    }
   ],
   "source": [
    "\"\"\"*args = list of arguments - as positional arguments\n",
    "**kwargs = dictionary - whose keys become separate keyword arguments and the values become values of these arguments.\n",
    "\n",
    "https://stackoverflow.com/questions/3394835/use-of-args-and-kwargs\n",
    "\n",
    "\"\"\"\n",
    "def ram(name,values):\n",
    "    print(f'{name} , values {values}')\n",
    "    \n",
    "\n",
    "ram('sesh' , [1,2,4])\n",
    "ram('sesh',[])\n",
    "\n",
    "\n",
    "def ram(name,*values):\n",
    "    print(f'{name} , values {values}')\n",
    "    \n",
    "\n",
    "ram('sesh' , [1,2,4])\n",
    "ram('sesh' , *[1,2,4])  # in function call it unpacks\n",
    "\n",
    "ram('sesh' , 1,2,3)\n",
    "\n",
    "ram('sesh')"
   ]
  },
  {
   "cell_type": "code",
   "execution_count": 163,
   "metadata": {},
   "outputs": [
    {
     "name": "stdout",
     "output_type": "stream",
     "text": [
      "0. apple\n",
      "1. banana\n",
      "2. cabbage\n"
     ]
    }
   ],
   "source": [
    "def print_everything(*args):\n",
    "    \n",
    "    for count, thing in enumerate(args):\n",
    "        print( '{0}. {1}'.format(count, thing))\n",
    "        \n",
    "print_everything('apple', 'banana', 'cabbage')\n",
    "print_everything()\n"
   ]
  },
  {
   "cell_type": "code",
   "execution_count": 176,
   "metadata": {},
   "outputs": [
    {
     "name": "stdout",
     "output_type": "stream",
     "text": [
      "sesh\n",
      "([1, 2, 4],)\n",
      "sesh\n",
      "(1, 2, 4)\n",
      "sesh\n",
      "(1, 2, 3)\n",
      "sesh\n",
      "sesh\n",
      "(1, 2, 3)\n",
      "{'ram': 'laxman', 'sita': 'ram'}\n",
      "sesh\n",
      "([1, 2, 3],)\n",
      "{'ram': 'laxman', 'sita': 'ram'}\n"
     ]
    }
   ],
   "source": [
    "\"\"\"*args = list of arguments - as positional arguments\n",
    "**kwargs = dictionary - whose keys become separate keyword arguments and the values become values of these arguments.\n",
    "\n",
    "https://stackoverflow.com/questions/3394835/use-of-args-and-kwargs\n",
    "\n",
    "\"\"\"\n",
    "\n",
    "\n",
    "def ram(name,*args,**kwargs):\n",
    "    print(f'{name}')\n",
    "    \n",
    "    if args:\n",
    "        print(f'{args}')\n",
    "    if kwargs:\n",
    "        print(f'{kwargs}')\n",
    "\n",
    "ram('sesh' , [1,2,4])\n",
    "ram('sesh' , *[1,2,4])  # in function call it unpacks\n",
    "\n",
    "ram('sesh' , 1,2,3)\n",
    "\n",
    "ram('sesh')\n",
    "ram('sesh',*[1,2,3],ram='laxman',sita='ram')  # in function call it unpacks\n",
    "ram('sesh',[1,2,3],ram='laxman',sita='ram')  # in function call it unpacks\n"
   ]
  },
  {
   "cell_type": "code",
   "execution_count": 275,
   "metadata": {},
   "outputs": [
    {
     "name": "stdout",
     "output_type": "stream",
     "text": [
      "stopped\n",
      "Wall time: 0 ns\n"
     ]
    }
   ],
   "source": [
    "%%time\n",
    "color='yellow'\n",
    "side=7\n",
    "color='red'\n",
    "\n",
    "def is_stop_sign():\n",
    "    return color=='red' and side==7\n",
    "\n",
    "if is_stop_sign():\n",
    "    print(\"stopped\")\n",
    "else:\n",
    "    print(\"not stppped\")\n",
    "\n",
    "\n",
    "\n",
    "\n",
    "\n",
    "\n",
    "\n",
    "\n"
   ]
  },
  {
   "cell_type": "code",
   "execution_count": 188,
   "metadata": {},
   "outputs": [
    {
     "data": {
      "text/plain": [
       "[(1, 2, 3), (1, 3, 2), (2, 1, 3), (2, 3, 1), (3, 1, 2), (3, 2, 1)]"
      ]
     },
     "execution_count": 188,
     "metadata": {},
     "output_type": "execute_result"
    }
   ],
   "source": [
    "from itertools import permutations\n",
    "\n",
    "list(permutations([1,2,3]))\n"
   ]
  },
  {
   "cell_type": "code",
   "execution_count": 274,
   "metadata": {},
   "outputs": [
    {
     "ename": "TypeError",
     "evalue": "'NoneType' object is not iterable",
     "output_type": "error",
     "traceback": [
      "\u001b[1;31m---------------------------------------------------------------------------\u001b[0m",
      "\u001b[1;31mTypeError\u001b[0m                                 Traceback (most recent call last)",
      "\u001b[1;32m<timed exec>\u001b[0m in \u001b[0;36m<module>\u001b[1;34m\u001b[0m\n",
      "\u001b[1;31mTypeError\u001b[0m: 'NoneType' object is not iterable"
     ]
    }
   ],
   "source": [
    "%%time\n",
    "from collections import deque \n",
    "\n",
    "# reverse string\n",
    "class Solution(object):\n",
    "    def reverseString(self, A):\n",
    "        #A= A[::-1]\n",
    "        #return list(deque.rotate(deque(A)))\n",
    "\n",
    "        #return x\n",
    "        pass\n",
    "        \n",
    "A=[\"h\",\"e\",\"l\",\"l\",\"o\"]\n",
    "s=Solution()\n",
    "s.reverseString(A)\n",
    "list1= deque(A)\n",
    "list1= (list1.rotate(len(A)) )\n",
    "#print(deque.rotate(deque(A)) )\n",
    "print(list(list1))\n",
    "\n",
    "test_list = deque(test_list) \n",
    "test_list.rotate(3) \n",
    "test_list = list(test_list)\n"
   ]
  },
  {
   "cell_type": "code",
   "execution_count": 207,
   "metadata": {},
   "outputs": [
    {
     "name": "stdout",
     "output_type": "stream",
     "text": [
      "Original list : [1, 4, 6, 7, 2]\n",
      "List after left rotate by 3 : [7, 2, 1, 4, 6]\n",
      "List after right rotate by 3(back to original) : [1, 4, 6, 7, 2]\n"
     ]
    }
   ],
   "source": [
    "# Python3 code to demonstrate \n",
    "# rotation of list \n",
    "# using rotate() \n",
    "from collections import deque \n",
    "\n",
    "# initializing list \n",
    "test_list = [1, 4, 6, 7, 2] \n",
    "\n",
    "# printing original list \n",
    "print (\"Original list : \" + str(test_list)) \n",
    "\n",
    "# using rotate() to left rotate by 3 \n",
    "test_list = deque(test_list) \n",
    "test_list.rotate(-3) \n",
    "test_list = list(test_list) \n",
    "\n",
    "# Printing list after left rotate \n",
    "print (\"List after left rotate by 3 : \" + str(test_list)) \n",
    "\n",
    "# using rotate() to right rotate by 3 \n",
    "# back to Original \n",
    "test_list = deque(test_list) \n",
    "test_list.rotate(3) \n",
    "test_list = list(test_list) \n",
    "\n",
    "# Printing after right rotate \n",
    "print (\"List after right rotate by 3(back to original) : \"\n",
    "\t\t\t\t\t\t\t\t\t\t+ str(test_list)) \n"
   ]
  },
  {
   "cell_type": "code",
   "execution_count": 210,
   "metadata": {},
   "outputs": [
    {
     "name": "stdout",
     "output_type": "stream",
     "text": [
      "exists\n"
     ]
    }
   ],
   "source": [
    "list1=[1, 4, 6, 7, 2]\n",
    "element=2\n",
    "if element in set(list1):\n",
    "    print(\"exists\")"
   ]
  },
  {
   "cell_type": "code",
   "execution_count": 214,
   "metadata": {},
   "outputs": [
    {
     "data": {
      "text/plain": [
       "1"
      ]
     },
     "execution_count": 214,
     "metadata": {},
     "output_type": "execute_result"
    }
   ],
   "source": [
    "gen1=(i for i in range(10))\n",
    "\n",
    "gen1\n",
    "next(gen1)\n",
    "next(gen1)\n"
   ]
  },
  {
   "cell_type": "code",
   "execution_count": 225,
   "metadata": {},
   "outputs": [
    {
     "data": {
      "text/plain": [
       "['4', '4', '2', '1']"
      ]
     },
     "execution_count": 225,
     "metadata": {},
     "output_type": "execute_result"
    }
   ],
   "source": [
    "n = 4421\n",
    "\"welcome\".split()\n",
    "[i for i in str(n)]"
   ]
  },
  {
   "cell_type": "code",
   "execution_count": 228,
   "metadata": {},
   "outputs": [
    {
     "name": "stdout",
     "output_type": "stream",
     "text": [
      "80\n"
     ]
    }
   ],
   "source": [
    "var1=80\n",
    "\n",
    "if var1 in (80, 443) or 1024 < var1 < 65535:\n",
    "    print(var1)\n",
    "\n"
   ]
  },
  {
   "cell_type": "code",
   "execution_count": 236,
   "metadata": {},
   "outputs": [
    {
     "data": {
      "text/plain": [
       "False"
      ]
     },
     "execution_count": 236,
     "metadata": {},
     "output_type": "execute_result"
    }
   ],
   "source": [
    "#http://switowski.github.io/PythonPerformancePresentation/#/6\n",
    "\n",
    "list1=['4', '4', '2', '1']\n",
    "sublist=[ '2', '1']\n",
    "\n",
    "set1=set(list1)\n",
    "set2=set(sublist)\n",
    "set2.issubset(set1)\n",
    "set1.issubset(set2)\n"
   ]
  },
  {
   "cell_type": "code",
   "execution_count": 240,
   "metadata": {},
   "outputs": [
    {
     "data": {
      "text/plain": [
       "True"
      ]
     },
     "execution_count": 240,
     "metadata": {},
     "output_type": "execute_result"
    }
   ],
   "source": [
    "\n",
    "list1=['4', '4', '2', '1']\n",
    "\n",
    "'1' in set(list1)"
   ]
  },
  {
   "cell_type": "code",
   "execution_count": 280,
   "metadata": {},
   "outputs": [
    {
     "name": "stdout",
     "output_type": "stream",
     "text": [
      "Counter({'a': 3, 'l': 2, 'g': 1, 'h': 1, 'd': 1})\n"
     ]
    },
    {
     "data": {
      "text/plain": [
       "True"
      ]
     },
     "execution_count": 280,
     "metadata": {},
     "output_type": "execute_result"
    }
   ],
   "source": [
    "from collections import Counter\n",
    "\n",
    "c = Counter('gallahad')\n",
    "print(c)\n",
    "# d = Counter('welcome')\n",
    "# c==d\n",
    "\n",
    "\n",
    "d={'red': 4, 'blue': 2}\n",
    "x={'red': 4, 'blue': 2}\n",
    "x==d\n"
   ]
  },
  {
   "cell_type": "code",
   "execution_count": 276,
   "metadata": {},
   "outputs": [
    {
     "name": "stdout",
     "output_type": "stream",
     "text": [
      "Wall time: 0 ns\n"
     ]
    },
    {
     "data": {
      "text/plain": [
       "[(4, 4), (2, 3), (1, 2), (3, 2)]"
      ]
     },
     "execution_count": 276,
     "metadata": {},
     "output_type": "execute_result"
    }
   ],
   "source": [
    "%%time\n",
    "from collections import Counter\n",
    "\n",
    "test = [1, 2, 3, 4, 2, 2, 3, 1, 4, 4, 4]\n",
    "\n",
    "Counter(test).most_common()\n"
   ]
  },
  {
   "cell_type": "code",
   "execution_count": 281,
   "metadata": {},
   "outputs": [
    {
     "name": "stdout",
     "output_type": "stream",
     "text": [
      "0\n",
      "1\n",
      "4\n",
      "9\n",
      "16\n",
      "25\n",
      "36\n",
      "49\n",
      "64\n",
      "81\n",
      "100\n",
      "121\n",
      "144\n",
      "169\n",
      "196\n",
      "Wall time: 2 ms\n"
     ]
    }
   ],
   "source": [
    "%%time \n",
    "\n",
    "# Find the squares of a number in the \n",
    "# range from 0 to 14 \n",
    "for x in range(15): \n",
    "\tsquare = x**2\n",
    "\tprint(square) \n"
   ]
  },
  {
   "cell_type": "code",
   "execution_count": 311,
   "metadata": {},
   "outputs": [
    {
     "data": {
      "text/plain": [
       "['o', 'h', 'e', 'l', 'l']"
      ]
     },
     "execution_count": 311,
     "metadata": {},
     "output_type": "execute_result"
    }
   ],
   "source": [
    "from collections import deque\n",
    "\n",
    "# reverse string\n",
    "class Solution(object):\n",
    "    def reverseString(self, A):\n",
    "        A=deque(A)\n",
    "        A.rotate(-4)\n",
    "        A=list(A)\n",
    "        #print(list(A))\n",
    "        return A\n",
    "        \n",
    "        #A= A[::-1]\n",
    "        #eturn A[::-1]\n",
    "        #return x\n",
    "        \n",
    "A=[\"h\",\"e\",\"l\",\"l\",\"o\"]\n",
    "s=Solution()\n",
    "s.reverseString(A)\n",
    "\n",
    "\n",
    "\n",
    "\n"
   ]
  }
 ],
 "metadata": {
  "kernelspec": {
   "display_name": "Python 3",
   "language": "python",
   "name": "python3"
  },
  "language_info": {
   "codemirror_mode": {
    "name": "ipython",
    "version": 3
   },
   "file_extension": ".py",
   "mimetype": "text/x-python",
   "name": "python",
   "nbconvert_exporter": "python",
   "pygments_lexer": "ipython3",
   "version": "3.7.4"
  }
 },
 "nbformat": 4,
 "nbformat_minor": 2
}
